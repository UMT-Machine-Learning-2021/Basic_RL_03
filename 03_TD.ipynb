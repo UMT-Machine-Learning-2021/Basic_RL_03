{
 "cells": [
  {
   "cell_type": "markdown",
   "metadata": {
    "collapsed": true,
    "pycharm": {
     "name": "#%% md\n"
    }
   },
   "source": [
    "# Temporal Difference Learning\n",
    "---\n",
    "Now that we have learned a little about Monte Carlo Methods, let's move on to Temporal Difference(TD) Learning.\n",
    "The plan for the week is to do a small lecture Tuesday to review the TD material then jump into an exercise.\n",
    "If we complete that exercise, we will do a really fun exercise using the same TD methods Thursday.\n",
    "\n",
    "Please watch the videos bellow.\n",
    "There is not a lot of material here, but it is dense.\n",
    "I recommend taking notes and reviewing the videos a few times until you have a solid understanding of the material.\n",
    "Lastly, don't be afraid to review the MC control material; it is very helpful in understanding the motivation for TD learning.\n",
    "\n",
    "[Introduction](https://www.youtube.com/watch?v=yXErXQulI_o&t=81s)\n",
    "\n",
    "[TD Control Part 1](https://www.youtube.com/watch?v=HYV0SP9wm7g)\n",
    "\n",
    "[TD Control Part 2](https://www.youtube.com/watch?v=U_CV-UC9G2c)\n",
    "\n",
    "[SARSA max (Q-Learning)](https://www.youtube.com/watch?v=4DxoYuR7aZ4)\n",
    "\n",
    "[Expected SARSA](https://www.youtube.com/watch?v=kEKupCyU0P0)\n",
    "\n",
    "\n",
    "\n",
    "\n",
    "\n",
    "\n"
   ]
  }
 ],
 "metadata": {
  "kernelspec": {
   "display_name": "Python 3",
   "language": "python",
   "name": "python3"
  },
  "language_info": {
   "codemirror_mode": {
    "name": "ipython",
    "version": 2
   },
   "file_extension": ".py",
   "mimetype": "text/x-python",
   "name": "python",
   "nbconvert_exporter": "python",
   "pygments_lexer": "ipython2",
   "version": "2.7.6"
  }
 },
 "nbformat": 4,
 "nbformat_minor": 0
}